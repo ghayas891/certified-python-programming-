{
 "cells": [
  {
   "cell_type": "markdown",
   "metadata": {},
   "source": [
    "#                                      Ghayas Haider"
   ]
  },
  {
   "cell_type": "code",
   "execution_count": 1,
   "metadata": {},
   "outputs": [
    {
     "name": "stdout",
     "output_type": "stream",
     "text": [
      "winkle, twinkle, little star,\n",
      "  How I wonder what you are!\n",
      "    Up above the world so high,\n",
      "    Like a diamond in the sky.\n",
      "Twinkle, twinkle, little star,\n",
      " How I wonder what you are \n"
     ]
    }
   ],
   "source": [
    "############################################### First task about string ########################################################\n",
    "\n",
    "print(\"winkle, twinkle, little star,\\n  How I wonder what you are!\\n    Up above the world so high,\\n    Like a diamond in the sky.\\nTwinkle, twinkle, little star,\\n How I wonder what you are \")"
   ]
  },
  {
   "cell_type": "code",
   "execution_count": 2,
   "metadata": {},
   "outputs": [
    {
     "name": "stdout",
     "output_type": "stream",
     "text": [
      "Python 3.8.5\n"
     ]
    }
   ],
   "source": [
    "######################## Second task about python version ######################################################################\n",
    "!python -V"
   ]
  },
  {
   "cell_type": "code",
   "execution_count": 3,
   "metadata": {},
   "outputs": [
    {
     "name": "stdout",
     "output_type": "stream",
     "text": [
      "23/10/21\n",
      "October/23/21\n",
      "Oct/23/21\n"
     ]
    }
   ],
   "source": [
    "############################################ Third task about display current date and time ####################################\n",
    "\n",
    "from datetime import date\n",
    "date = date.today()\n",
    "\n",
    "\n",
    "#### Day/month/year in number formate ##########################################################################################\n",
    "\n",
    "date1 = date.strftime(\"%d/%m/%y\")\n",
    "print(date1)\n",
    "\n",
    "\n",
    "### Month/day/year while month in word form ####################################################################################\n",
    "\n",
    "date2 = date.strftime(\"%B/%d/%y\")\n",
    "print(date2)\n",
    "\n",
    "\n",
    "### Month/day/year while month in abbrivation form #############################################################################\n",
    "\n",
    "date4 = date.strftime(\"%b/%d/%y\")\n",
    "print(date4)"
   ]
  },
  {
   "cell_type": "code",
   "execution_count": 4,
   "metadata": {},
   "outputs": [
    {
     "name": "stdout",
     "output_type": "stream",
     "text": [
      "Please enter the radius of circle = 12\n",
      "Area =  452.16 Foot squre\n"
     ]
    }
   ],
   "source": [
    "################################## Fourth task computing the area of circle ####################################################\n",
    "\n",
    "radius_Of_Circle = int(input(\"Please enter the radius of circle = \"))\n",
    "value_Of_Pi = 3.14                                 ##### PI is constant value ##################################################\n",
    "Area_Of_Circle = value_Of_Pi*radius_Of_Circle**2   ##### area of circle is (PI*R**2) whare R is radius of circle ###############\n",
    "print(\"Area = \", Area_Of_Circle, \"Foot squre\")"
   ]
  },
  {
   "cell_type": "code",
   "execution_count": 5,
   "metadata": {},
   "outputs": [
    {
     "name": "stdout",
     "output_type": "stream",
     "text": [
      "please enter your first name Ghayas\n",
      "Please enter your second name Haider\n",
      "Your revrse name is  Haider Ghayas\n"
     ]
    }
   ],
   "source": [
    "######################## Fifth step displaying the name of user in reverse order ###############################################\n",
    " \n",
    "first_Name = input(\"please enter your first name \")\n",
    "second_Name = input(\"Please enter your second name \")\n",
    "reverse_Name = second_Name+\" \"+first_Name\n",
    "print(\"Your revrse name is \", reverse_Name)"
   ]
  },
  {
   "cell_type": "code",
   "execution_count": 6,
   "metadata": {},
   "outputs": [
    {
     "name": "stdout",
     "output_type": "stream",
     "text": [
      "Please enter first number 234\n",
      "Please enter second number 344\n",
      "Answers =  578\n"
     ]
    }
   ],
   "source": [
    "####################### Sixth step of adding two inputs ########################################################################\n",
    "first_Input = int(input(\"Please enter first number \"))\n",
    "second_Input = int(input(\"Please enter second number \"))\n",
    "addition_OF_Numbers = first_Input+second_Input   \n",
    "print(\"Answers = \", addition_OF_Numbers)"
   ]
  },
  {
   "cell_type": "code",
   "execution_count": 8,
   "metadata": {},
   "outputs": [
    {
     "name": "stdout",
     "output_type": "stream",
     "text": [
      "Please enter the first subject's numbers 45\n",
      "Please enter the second subject's numbers 67\n",
      "Please enter the third subject's numbers 87\n",
      "Please enter the fourth subject's numbers 65\n",
      "Please enter the fifth subject's numbers 65\n",
      "Total marks are  500\n",
      "You Obtained 329\n",
      "Your percentage is 65.8\n",
      "grade = B+\n"
     ]
    }
   ],
   "source": [
    "#################################### Seventh step of creating marks sheet ######################################################\n",
    "\n",
    "###################################### 1 Taking inputs from users ##############################################################\n",
    "subject1=int(input(\"Please enter the first subject's numbers \"))\n",
    "subject2=int(input(\"Please enter the second subject's numbers \"))\n",
    "subject3=int(input(\"Please enter the third subject's numbers \"))\n",
    "subject4=int(input(\"Please enter the fourth subject's numbers \"))\n",
    "subject5=int(input(\"Please enter the fifth subject's numbers \"))\n",
    "\n",
    "############################################ sum of total user's inputs ########################################################\n",
    "Total_obtained_num =subject1+subject2+subject3+subject4+subject5 \n",
    "\n",
    "############################################  total numbers  ###################################################################\n",
    "Total_num =500\n",
    "\n",
    "############################################        percentage          ########################################################\n",
    "percentage_num = (Total_obtained_num/Total_num)*100\n",
    "print(\"Total marks are \" ,Total_num)\n",
    "print(\"You Obtained\",Total_obtained_num)\n",
    "print(\"Your percentage is\",percentage_num )\n",
    "############################################      Marks sheet           ########################################################\n",
    "if percentage_num >80:\n",
    "    print(\"grade = A+\")\n",
    "elif percentage_num>70 and  percentage_num< 80:\n",
    "    print(\"grade = A\")\n",
    "elif percentage_num>60 and  percentage_num< 70:\n",
    "    print(\"grade = B+\")\n",
    "elif percentage_num>50 and  percentage_num< 60:\n",
    "    print(\"grade = B\")\n",
    "elif percentage_num>40 and  percentage_num< 50:\n",
    "    print(\"grade = C\")\n",
    "elif percentage_num>33 and  percentage_num< 40:\n",
    "    print(\"grade = D\")\n",
    "else:\n",
    "    print(\"Sorry try again next time\")\n",
    "\n"
   ]
  },
  {
   "cell_type": "code",
   "execution_count": 10,
   "metadata": {},
   "outputs": [
    {
     "name": "stdout",
     "output_type": "stream",
     "text": [
      "please enter a number 6\n",
      "It's an even number\n"
     ]
    }
   ],
   "source": [
    "########################################### 8th step of identifying even or odd number #########################################\n",
    "user_Input = int(input(\"please enter a number \"))\n",
    "modulus_Of_Input = user_Input%2\n",
    "if modulus_Of_Input == 0:\n",
    "    print(\"It's an even number\")\n",
    "else:\n",
    "    print(\"Number in an Odd number\")"
   ]
  },
  {
   "cell_type": "code",
   "execution_count": 20,
   "metadata": {},
   "outputs": [
    {
     "name": "stdout",
     "output_type": "stream",
     "text": [
      "[32, 4, 22, 565, 2, 11, 32, 44, 2, 113, 456, 7, 88, 87, 89, 66, 53]\n"
     ]
    },
    {
     "data": {
      "text/plain": [
       "17"
      ]
     },
     "execution_count": 20,
     "metadata": {},
     "output_type": "execute_result"
    }
   ],
   "source": [
    "############################## 9th step checking the length of a list ##########################################################\n",
    "working_List = [32,4,22,565,2,11,32,44,2,113,456,7,88,87,89,66,53]\n",
    "print(working_List)\n",
    "len(working_List)"
   ]
  },
  {
   "cell_type": "code",
   "execution_count": 22,
   "metadata": {},
   "outputs": [
    {
     "data": {
      "text/plain": [
       "1673"
      ]
     },
     "execution_count": 22,
     "metadata": {},
     "output_type": "execute_result"
    }
   ],
   "source": [
    "########################################### 10th step sum of all elements in a list ############################################\n",
    "sum(working_List)"
   ]
  },
  {
   "cell_type": "code",
   "execution_count": 43,
   "metadata": {},
   "outputs": [
    {
     "name": "stdout",
     "output_type": "stream",
     "text": [
      "[2, 2, 4, 7, 11, 22, 32, 32, 44, 53, 66, 87, 88, 89, 113, 456, 565]\n",
      "The largest number from list is =   565\n"
     ]
    }
   ],
   "source": [
    "#################################### 11th step getting largest number from list ################################################\n",
    "## For getting largest number from list we have to sort list and then the largest number will appear at the end of the list ####\n",
    "working_List.sort()\n",
    "print(working_List)\n",
    "## Now we can take largest number by slicing ###################################################################################\n",
    "print (\"The largest number from list is =  \",working_List[-1])"
   ]
  },
  {
   "cell_type": "code",
   "execution_count": 52,
   "metadata": {},
   "outputs": [
    {
     "name": "stdout",
     "output_type": "stream",
     "text": [
      "1\n",
      "1\n",
      "2\n",
      "3\n"
     ]
    }
   ],
   "source": [
    "################################## 12th step getting less then 5 elements from list \n",
    "a = [1, 1, 2, 3, 5, 8, 13, 21, 34, 55, 89] \n",
    "for i in a:\n",
    "    if i < 5:\n",
    "        print(i)"
   ]
  },
  {
   "cell_type": "code",
   "execution_count": null,
   "metadata": {},
   "outputs": [],
   "source": []
  },
  {
   "cell_type": "code",
   "execution_count": null,
   "metadata": {},
   "outputs": [],
   "source": []
  },
  {
   "cell_type": "code",
   "execution_count": null,
   "metadata": {},
   "outputs": [],
   "source": [
    "S"
   ]
  }
 ],
 "metadata": {
  "kernelspec": {
   "display_name": "Python 3",
   "language": "python",
   "name": "python3"
  },
  "language_info": {
   "codemirror_mode": {
    "name": "ipython",
    "version": 3
   },
   "file_extension": ".py",
   "mimetype": "text/x-python",
   "name": "python",
   "nbconvert_exporter": "python",
   "pygments_lexer": "ipython3",
   "version": "3.8.5"
  }
 },
 "nbformat": 4,
 "nbformat_minor": 4
}
