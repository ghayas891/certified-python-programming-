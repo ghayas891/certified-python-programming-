{
 "cells": [
  {
   "cell_type": "code",
   "execution_count": 1,
   "metadata": {},
   "outputs": [
    {
     "name": "stdout",
     "output_type": "stream",
     "text": [
      "please enter number7\n",
      "please enter operator^\n",
      "please enter number3\n",
      "Answer =  343\n"
     ]
    }
   ],
   "source": [
    "#################    Simple Calculater #########################################################################################\n",
    "\n",
    "first_Number = int(input(\"please enter number\"))\n",
    "operator = input(\"please enter operator\")\n",
    "second_Number = int(input(\"please enter number\"))\n",
    "\n",
    "if operator == \"+\":\n",
    "    print(\"Answer = \", first_Number + second_Number)\n",
    "    \n",
    "elif operator == \"-\":\n",
    "    print(\"Answer = \", first_Number -second_Number)\n",
    "\n",
    "elif operator == \"/\":\n",
    "    print(\"Answer = \", first_Number /second_Number)\n",
    "    \n",
    "elif operator == \"*\":\n",
    "    print(\"Answer = \", first_Number *second_Number)\n",
    "    \n",
    "elif operator == \"^\":\n",
    "    print(\"Answer = \", first_Number **second_Number)\n",
    "else:\n",
    "    print(\"invalid entery\")\n",
    "          "
   ]
  },
  {
   "cell_type": "code",
   "execution_count": 13,
   "metadata": {},
   "outputs": [
    {
     "name": "stdout",
     "output_type": "stream",
     "text": [
      "False\n",
      "False\n",
      "False\n",
      "32\n",
      "False\n"
     ]
    }
   ],
   "source": [
    "list =  [\"Ghayas\", \"A\", \"Lahore\", 32 , \"B\"]\n",
    "for i in list:\n",
    "    if type(i) == int:\n",
    "        print(i)\n",
    "    else:\n",
    "        print(False)"
   ]
  },
  {
   "cell_type": "code",
   "execution_count": 27,
   "metadata": {},
   "outputs": [
    {
     "name": "stdout",
     "output_type": "stream",
     "text": [
      "{1: 'Ghayas', 2: 'Haider', 3: 'Basit', 4: 'Ali'}\n"
     ]
    }
   ],
   "source": [
    "dictionary = {1:\"Ghayas\",2:\"Haider\",3:\"Basit\",4:\"Ali\"}\n",
    "print(dictionary)"
   ]
  },
  {
   "cell_type": "code",
   "execution_count": 28,
   "metadata": {},
   "outputs": [
    {
     "name": "stdout",
     "output_type": "stream",
     "text": [
      "{1: 'Ghayas', 2: 'Haider', 3: 'Basit', 4: 'Ali', 5: 'usman'}\n"
     ]
    }
   ],
   "source": [
    "dictionary[5] = \"usman\"\n",
    "print(dictionary)"
   ]
  },
  {
   "cell_type": "code",
   "execution_count": 29,
   "metadata": {},
   "outputs": [
    {
     "name": "stdout",
     "output_type": "stream",
     "text": [
      "200\n"
     ]
    }
   ],
   "source": [
    "my_Dictionary = { \"A\":23, \"B\":87,\"C\":90}\n",
    "print(sum(my_Dictionary.values()))"
   ]
  },
  {
   "cell_type": "code",
   "execution_count": 30,
   "metadata": {},
   "outputs": [
    {
     "data": {
      "text/plain": [
       "{12, 89, 'Ghayas'}"
      ]
     },
     "execution_count": 30,
     "metadata": {},
     "output_type": "execute_result"
    }
   ],
   "source": [
    "list1 = [\"Ghayas\", 12, 12, \"Ghayas\", 89,89, \"basit\", \"Talha\", \"Usman\",98,15,]\n",
    "set([x for x in list1 if list1.count(x) > 1])\n",
    "        "
   ]
  },
  {
   "cell_type": "code",
   "execution_count": 37,
   "metadata": {},
   "outputs": [
    {
     "name": "stdout",
     "output_type": "stream",
     "text": [
      "please enter key to check B\n",
      "B Key is already exist\n"
     ]
    }
   ],
   "source": [
    "check_Key = input(\"please enter key to check \")\n",
    "if check_Key in my_Dictionary:\n",
    "    print(check_Key, \"Key is already exist\")\n",
    "else:\n",
    "    print(\"Not exist\")"
   ]
  },
  {
   "cell_type": "code",
   "execution_count": null,
   "metadata": {},
   "outputs": [],
   "source": []
  },
  {
   "cell_type": "code",
   "execution_count": null,
   "metadata": {},
   "outputs": [],
   "source": []
  },
  {
   "cell_type": "code",
   "execution_count": null,
   "metadata": {},
   "outputs": [],
   "source": []
  }
 ],
 "metadata": {
  "kernelspec": {
   "display_name": "Python 3",
   "language": "python",
   "name": "python3"
  },
  "language_info": {
   "codemirror_mode": {
    "name": "ipython",
    "version": 3
   },
   "file_extension": ".py",
   "mimetype": "text/x-python",
   "name": "python",
   "nbconvert_exporter": "python",
   "pygments_lexer": "ipython3",
   "version": "3.8.5"
  }
 },
 "nbformat": 4,
 "nbformat_minor": 4
}
